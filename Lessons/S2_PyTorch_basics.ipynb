{
  "cells": [
    {
      "cell_type": "markdown",
      "metadata": {
        "id": "zjfLQzEPYJ9B"
      },
      "source": [
        "Несколько фактов о PyTorch:\n",
        "- динамический граф вычислений\n",
        "- удобные модули `torch.nn` и `torchvision` для быстрого прототипирования нейронных сетей\n",
        "- даже быстрее, чем TensorFlow на некоторых задачах\n",
        "- позволяет легко использовать **GPU**"
      ]
    },
    {
      "cell_type": "markdown",
      "metadata": {
        "id": "44AAEPIpu8Mq"
      },
      "source": [
        "По своей сути PyTorch предоставляет две основные функции:\n",
        "\n",
        "- n-мерный тензор, похожий на **numpy**, но может работать на графических процессорах\n",
        "- Автоматическая дифференциация для построения и обучения нейронных сетей"
      ]
    },
    {
      "cell_type": "markdown",
      "metadata": {
        "id": "0AL-T8TMYJ9D"
      },
      "source": [
        "Если бы PyTorch был формулой, она была бы такой:\n",
        "\n",
        "$$PyTorch = NumPy + CUDA + Autograd$$"
      ]
    },
    {
      "cell_type": "code",
      "execution_count": 1,
      "metadata": {},
      "outputs": [],
      "source": [
        "# Стандартный способ импорта\n",
        "import torch\n",
        "import torch.nn as nn"
      ]
    },
    {
      "cell_type": "markdown",
      "metadata": {
        "id": "lWIeTFxSYJ9F"
      },
      "source": [
        "Давайте посмотрим, как мы можем использовать PyTorch для работы с векторами и тензорами.\n",
        "\n",
        "Напомним, что **тензор** - это многомерный вектор, например :\n",
        "\n",
        "`x = np.array ([1,2,3])` - вектор = тензор с 1 размерностью (точнее: `(3,)`)\n",
        "\n",
        "`y = np.array ([[1, 2, 3], [4, 5, 6]])` - матрица = тензор с двумя измерениями (`(2, 3)` в данном случае)\n",
        "\n",
        "`z = np.array ([[[1, 2, 3], [4, 5, 6], [7, 8, 9]]],\n",
        "               [[1, 2, 3], [4, 5, 6], [7, 8, 9]],\n",
        "               [[1, 2, 3], [4, 5, 6], [7, 8, 9]]]) `-\" куб \"(3, 3, 3) = тензор с тремя измерениями (` ( 3, 3, 3) `в этом случае)\n"
      ]
    },
    {
      "cell_type": "markdown",
      "metadata": {
        "id": "hS97vo7mYJ9G"
      },
      "source": [
        "Одним из реальных примеров трехмерного тензора является **изображение**, оно имеет 3 измерения: `высота`, `ширина` и `глубина канала` (глубина канала = 3 для цветных изображений, 1 для оттенков серого). Вы можете думать об этом как о параллелепипеде, состоящем из действительных чисел.\n"
      ]
    },
    {
      "cell_type": "markdown",
      "metadata": {
        "id": "byu7xZtLYJ9J"
      },
      "source": [
        "### Типы Тензоров"
      ]
    },
    {
      "cell_type": "markdown",
      "metadata": {
        "id": "tEeGGtRiYJ9H"
      },
      "source": [
        "В PyTorch мы будем использовать `torch.Tensor` (`FloatTensor`, `IntTensor`, `ByteTensor`) для всех вычислений.\n",
        "\n",
        "Все типы:"
      ]
    },
    {
      "cell_type": "code",
      "execution_count": 3,
      "metadata": {
        "colab": {
          "base_uri": "https://localhost:8080/"
        },
        "id": "zilSktmEGgAv",
        "outputId": "07dd7d1e-e151-4ee0-eccd-618ebb747fe1"
      },
      "outputs": [
        {
          "data": {
            "text/plain": [
              "torch.ByteTensor"
            ]
          },
          "execution_count": 3,
          "metadata": {},
          "output_type": "execute_result"
        }
      ],
      "source": [
        "torch.HalfTensor      # 16 бит, floating point\n",
        "torch.FloatTensor     # 32 бита, floating point\n",
        "torch.DoubleTensor    # 64 бита, floating point\n",
        "\n",
        "torch.ShortTensor     # 16 бит, integer, signed\n",
        "torch.IntTensor       # 32 бита, integer, signed\n",
        "torch.LongTensor      # 64 бита, integer, signed\n",
        "\n",
        "torch.CharTensor      # 8 бит, integer, signed\n",
        "torch.ByteTensor      # 8 бит, integer, unsigned"
      ]
    },
    {
      "cell_type": "markdown",
      "metadata": {
        "id": "NWk2gidNYJ9P"
      },
      "source": [
        "Мы будем использовать в основном `torch.FloatTensor()` и `torch.IntTensor()`."
      ]
    },
    {
      "cell_type": "markdown",
      "metadata": {
        "id": "R4HEetsxYJ9Q"
      },
      "source": [
        "### Создание тензора"
      ]
    },
    {
      "cell_type": "code",
      "execution_count": 2,
      "metadata": {
        "colab": {
          "base_uri": "https://localhost:8080/"
        },
        "id": "MVawE9lRYJ9R",
        "outputId": "abbf6a24-fff3-426d-8dfe-1190e4d568d5"
      },
      "outputs": [
        {
          "data": {
            "text/plain": [
              "tensor([1., 2.])"
            ]
          },
          "execution_count": 2,
          "metadata": {},
          "output_type": "execute_result"
        }
      ],
      "source": [
        "a = torch.FloatTensor([1, 2])\n",
        "a\n"
      ]
    },
    {
      "cell_type": "code",
      "execution_count": 4,
      "metadata": {
        "colab": {
          "base_uri": "https://localhost:8080/"
        },
        "id": "ARjaPS_GYJ9W",
        "outputId": "ebdd325d-7bad-4724-c82e-67783414abb0"
      },
      "outputs": [
        {
          "data": {
            "text/plain": [
              "torch.Size([2])"
            ]
          },
          "execution_count": 4,
          "metadata": {},
          "output_type": "execute_result"
        }
      ],
      "source": [
        "a.shape"
      ]
    },
    {
      "cell_type": "code",
      "execution_count": 8,
      "metadata": {
        "colab": {
          "base_uri": "https://localhost:8080/"
        },
        "id": "4gXf0akDYJ9Z",
        "outputId": "ee382869-6c7c-49b2-e7e2-a0c07b1f0c50"
      },
      "outputs": [
        {
          "data": {
            "text/plain": [
              "tensor([[1., 2., 3.],\n",
              "        [4., 5., 6.]])"
            ]
          },
          "execution_count": 8,
          "metadata": {},
          "output_type": "execute_result"
        }
      ],
      "source": [
        "b = torch.FloatTensor([[1,2,3], [4,5,6]])\n",
        "b"
      ]
    },
    {
      "cell_type": "code",
      "execution_count": 9,
      "metadata": {
        "colab": {
          "base_uri": "https://localhost:8080/"
        },
        "id": "0HTkoIzpYJ9e",
        "outputId": "5ac34d30-bf04-4839-8858-53074d509450"
      },
      "outputs": [
        {
          "data": {
            "text/plain": [
              "torch.Size([2, 3])"
            ]
          },
          "execution_count": 9,
          "metadata": {},
          "output_type": "execute_result"
        }
      ],
      "source": [
        "b.shape"
      ]
    },
    {
      "cell_type": "code",
      "execution_count": 10,
      "metadata": {
        "id": "WYJ9L-yFYJ9j"
      },
      "outputs": [],
      "source": [
        "x = torch.FloatTensor(2,3,4)"
      ]
    },
    {
      "cell_type": "code",
      "execution_count": 11,
      "metadata": {
        "colab": {
          "base_uri": "https://localhost:8080/"
        },
        "id": "qWAEP27IYJ9m",
        "outputId": "f20995ad-4a57-4b02-e362-2b3104271f37"
      },
      "outputs": [
        {
          "data": {
            "text/plain": [
              "tensor([[[ 0.0000e+00,  0.0000e+00,  8.2044e-28,  0.0000e+00],\n",
              "         [ 7.1454e-27,  0.0000e+00, -5.1737e-07,  4.5684e-41],\n",
              "         [ 1.4013e-45,  0.0000e+00,  8.4078e-45,  0.0000e+00]],\n",
              "\n",
              "        [[ 0.0000e+00,  0.0000e+00,  0.0000e+00,  0.0000e+00],\n",
              "         [ 0.0000e+00,  0.0000e+00,  0.0000e+00,  0.0000e+00],\n",
              "         [ 1.4013e-45,  0.0000e+00,  0.0000e+00,  0.0000e+00]]])"
            ]
          },
          "execution_count": 11,
          "metadata": {},
          "output_type": "execute_result"
        }
      ],
      "source": [
        "x"
      ]
    },
    {
      "cell_type": "code",
      "execution_count": 12,
      "metadata": {
        "colab": {
          "base_uri": "https://localhost:8080/"
        },
        "id": "o5CsOJ_xYJ9s",
        "outputId": "ca4147d0-1cd0-4ada-cef3-76770e887dc0",
        "scrolled": true
      },
      "outputs": [
        {
          "data": {
            "text/plain": [
              "tensor([ 5.4505e-26,  0.0000e+00,  0.0000e+00,  0.0000e+00,  1.5614e-39,\n",
              "         1.5618e-39,  0.0000e+00,  1.5635e-39,  0.0000e+00,  6.1342e+07,\n",
              "         2.3822e-44,  0.0000e+00,  0.0000e+00,  0.0000e+00,  3.1641e-15,\n",
              "         1.5613e-39,  3.8899e-27,  3.4060e-09,  2.3822e-44,  0.0000e+00,\n",
              "         0.0000e+00,  0.0000e+00,  1.2723e-26,  1.5618e-39,  0.0000e+00,\n",
              "         2.0364e-25, -4.2726e-03,  1.5754e-39,  0.0000e+00,  2.3962e+05,\n",
              "         2.3822e-44,  0.0000e+00,  0.0000e+00,  0.0000e+00,  3.3862e-15,\n",
              "         2.3822e-44,  0.0000e+00,  1.5865e-39,  0.0000e+00,  0.0000e+00,\n",
              "         0.0000e+00,  0.0000e+00,  1.5614e-39,  0.0000e+00,  1.5618e-39,\n",
              "         0.0000e+00,  3.2583e-24,  3.8340e+06,  2.3822e-44,  0.0000e+00,\n",
              "         0.0000e+00,  0.0000e+00,  4.5970e-17,  1.4242e-38,  9.2362e-37,\n",
              "         1.5660e-39,  1.9343e-16,  2.3822e-44,  0.0000e+00,  4.7790e-38,\n",
              "         3.1061e-30,  1.5775e-39,  0.0000e+00,  0.0000e+00,  0.0000e+00,\n",
              "         0.0000e+00,  6.2839e-38,  2.3822e-44,  9.1835e-41,  1.6677e-37,\n",
              "         1.6677e-37,  1.0931e-38,  9.3079e-04,  2.3822e-44,  0.0000e+00,\n",
              "         8.8039e-10,  5.9570e-02,  2.3822e-44,  0.0000e+00,  1.5840e-39,\n",
              "         0.0000e+00,  3.6562e+00,  1.1351e-43,  0.0000e+00, -5.5397e+14,\n",
              "         4.5684e-41, -5.5397e+14,  4.5684e-41,  0.0000e+00,  1.5854e-39,\n",
              "         0.0000e+00,  0.0000e+00,  0.0000e+00,  0.0000e+00,  1.5614e-39,\n",
              "         0.0000e+00,  1.5618e-39,  0.0000e+00,  8.1734e-39, -3.2915e-36])"
            ]
          },
          "execution_count": 12,
          "metadata": {},
          "output_type": "execute_result"
        }
      ],
      "source": [
        "x = torch.FloatTensor(100)\n",
        "x"
      ]
    },
    {
      "cell_type": "code",
      "execution_count": 13,
      "metadata": {
        "colab": {
          "base_uri": "https://localhost:8080/"
        },
        "id": "uIVhvmzZYJ91",
        "outputId": "68747815-c3b2-4328-ca38-ce32b7321f0b"
      },
      "outputs": [
        {
          "data": {
            "text/plain": [
              "torch.Size([45, 57, 14, 2])"
            ]
          },
          "execution_count": 13,
          "metadata": {},
          "output_type": "execute_result"
        }
      ],
      "source": [
        "x = torch.IntTensor(45, 57, 14, 2)\n",
        "x.shape"
      ]
    },
    {
      "cell_type": "markdown",
      "metadata": {
        "id": "cUzl8DFRYJ95"
      },
      "source": [
        "**Примечание:** если вы создаете `torch.Tensor` с помощью следующего конструктора, он будет заполнен мусором из \"случайных номеров\":"
      ]
    },
    {
      "cell_type": "code",
      "execution_count": 14,
      "metadata": {
        "colab": {
          "base_uri": "https://localhost:8080/"
        },
        "id": "QX0QcIOzYJ96",
        "outputId": "396c0956-a2f3-4d76-a697-5837aaa7385b"
      },
      "outputs": [
        {
          "data": {
            "text/plain": [
              "tensor([[[354528459,         0,         0,         0],\n",
              "         [    65793,  16842752,  16843008,     65792]],\n",
              "\n",
              "        [[ 16842752,       256,     65536,  16842753],\n",
              "         [        1,  16843009,  16777473,       257]],\n",
              "\n",
              "        [[ 16842752,  16843009,  16777473,  16777473],\n",
              "         [    65792,  16843009,       256,     65536]]], dtype=torch.int32)"
            ]
          },
          "execution_count": 14,
          "metadata": {},
          "output_type": "execute_result"
        }
      ],
      "source": [
        "x = torch.IntTensor(3, 2, 4)\n",
        "x"
      ]
    },
    {
      "cell_type": "markdown",
      "metadata": {
        "id": "utra2t4SbdQR"
      },
      "source": [
        "### Инициализации тензоров"
      ]
    },
    {
      "cell_type": "code",
      "execution_count": 15,
      "metadata": {
        "id": "XV3w9lVwYJ-A"
      },
      "outputs": [],
      "source": [
        "x1 = torch.FloatTensor(3, 2, 4)\n",
        "x1.zero_()\n",
        "x2 = torch.zeros(3, 2, 4)\n",
        "x3 = torch.zeros_like(x1)\n",
        "\n",
        "assert torch.allclose(x1, x2) and torch.allclose(x1, x3)"
      ]
    },
    {
      "cell_type": "markdown",
      "metadata": {
        "id": "G3el1HwZd9wJ"
      },
      "source": [
        "Инициализация случайного распределения"
      ]
    },
    {
      "cell_type": "code",
      "execution_count": 16,
      "metadata": {
        "colab": {
          "base_uri": "https://localhost:8080/"
        },
        "id": "-ahnCFMXe_9I",
        "outputId": "e2882741-a8c3-451e-ed56-b8b1a64c14dc"
      },
      "outputs": [
        {
          "data": {
            "text/plain": [
              "tensor([[ 0.5305, -0.5550, -0.2309],\n",
              "        [ 1.0010,  0.6589,  2.2735]])"
            ]
          },
          "execution_count": 16,
          "metadata": {},
          "output_type": "execute_result"
        }
      ],
      "source": [
        "x = torch.randn((2,3))                # Normal(0, 1) с размером (2, 3)\n",
        "x"
      ]
    },
    {
      "cell_type": "code",
      "execution_count": 17,
      "metadata": {
        "colab": {
          "base_uri": "https://localhost:8080/"
        },
        "id": "FhIy_yuRd9Kf",
        "outputId": "2f6e8b9f-1495-4b61-89f4-cd490c69aed3"
      },
      "outputs": [
        {
          "name": "stdout",
          "output_type": "stream",
          "text": [
            "tensor([[0., 8., 9.],\n",
            "        [8., 8., 0.]])\n",
            "tensor([[0.2605, 0.7559, 0.0135],\n",
            "        [0.0334, 0.1217, 0.7427]])\n",
            "tensor([[ 1.2228, -0.3385,  1.2867],\n",
            "        [ 1.3202,  0.3317,  2.8700]])\n",
            "tensor([[0., 0., 0.],\n",
            "        [1., 0., 0.]])\n"
          ]
        }
      ],
      "source": [
        "print(x.random_(0, 10))                    # Дискретное равномерное U[0, 10]\n",
        "print(x.uniform_(0, 1))                     # Равномерно U[0, 1]\n",
        "print(x.normal_(mean=0, std=1))             # Нормальное со средним 0 и дисперсией 1\n",
        "print(x.bernoulli_(p=0.5))                  # bernoulli with parameter p"
      ]
    },
    {
      "cell_type": "markdown",
      "metadata": {
        "id": "bzq1klQuzXA9"
      },
      "source": [
        "## Функции в Torch\n",
        "\n",
        "У всех функций Numpy есть своя пара в Torch!"
      ]
    },
    {
      "cell_type": "markdown",
      "metadata": {
        "id": "SAAmLRwzYJ-E"
      },
      "source": [
        "### Изменение формы\n",
        "`np.reshape()` == `torch.view()`:"
      ]
    },
    {
      "cell_type": "code",
      "execution_count": 18,
      "metadata": {
        "colab": {
          "base_uri": "https://localhost:8080/"
        },
        "id": "LLOoLEMDl8Cl",
        "outputId": "316ed447-b240-4fee-a3cf-cd0b86dd22a1"
      },
      "outputs": [
        {
          "data": {
            "text/plain": [
              "tensor([[1., 2., 3.],\n",
              "        [4., 5., 6.]])"
            ]
          },
          "execution_count": 18,
          "metadata": {},
          "output_type": "execute_result"
        }
      ],
      "source": [
        "b"
      ]
    },
    {
      "cell_type": "code",
      "execution_count": 19,
      "metadata": {
        "colab": {
          "base_uri": "https://localhost:8080/"
        },
        "id": "vLu6QvQihvGA",
        "outputId": "b65aedab-36a9-4a91-86fc-32435c7b1a4d"
      },
      "outputs": [
        {
          "data": {
            "text/plain": [
              "torch.Size([3, 2])"
            ]
          },
          "execution_count": 19,
          "metadata": {},
          "output_type": "execute_result"
        }
      ],
      "source": [
        "b.view(3, 2).shape"
      ]
    },
    {
      "cell_type": "code",
      "execution_count": 20,
      "metadata": {
        "colab": {
          "base_uri": "https://localhost:8080/"
        },
        "id": "BAET_xQhl_2f",
        "outputId": "ddc7d4a9-eb01-4c47-b7f6-83ac3830651c"
      },
      "outputs": [
        {
          "data": {
            "text/plain": [
              "tensor([[1., 2., 3.],\n",
              "        [4., 5., 6.]])"
            ]
          },
          "execution_count": 20,
          "metadata": {},
          "output_type": "execute_result"
        }
      ],
      "source": [
        "b"
      ]
    },
    {
      "cell_type": "code",
      "execution_count": null,
      "metadata": {
        "colab": {
          "base_uri": "https://localhost:8080/"
        },
        "id": "spMYG2xXYJ-L",
        "outputId": "9465bbfa-8121-4471-bc6c-81557b80ca86"
      },
      "outputs": [
        {
          "data": {
            "text/plain": [
              "(tensor([[1., 2., 3.],\n",
              "         [4., 5., 6.]]),\n",
              " (3, 1))"
            ]
          },
          "execution_count": 21,
          "metadata": {},
          "output_type": "execute_result"
        }
      ],
      "source": [
        "b, b.stride()"
      ]
    },
    {
      "cell_type": "code",
      "execution_count": 21,
      "metadata": {
        "colab": {
          "base_uri": "https://localhost:8080/"
        },
        "id": "spMYG2xXYJ-L",
        "outputId": "9465bbfa-8121-4471-bc6c-81557b80ca86"
      },
      "outputs": [
        {
          "data": {
            "text/plain": [
              "(tensor([[1., 2.],\n",
              "         [3., 4.],\n",
              "         [5., 6.]]),\n",
              " (2, 1))"
            ]
          },
          "execution_count": 22,
          "metadata": {},
          "output_type": "execute_result"
        }
      ],
      "source": [
        "b.view(3, 2), b.view(3, 2).stride()"
      ]
    },
    {
      "cell_type": "markdown",
      "metadata": {
        "colab": {
          "base_uri": "https://localhost:8080/"
        },
        "id": "ePjL3X3GYJ-H",
        "outputId": "a0e06364-61e9-475d-ca36-5b9c28b01387"
      },
      "source": [
        "**Примечание:** `torch.view ()` создает новый тензор, но старый остается неизменным"
      ]
    },
    {
      "cell_type": "code",
      "execution_count": 23,
      "metadata": {
        "colab": {
          "base_uri": "https://localhost:8080/"
        },
        "id": "hWqyugOSYJ-Q",
        "outputId": "ed94a8d8-41a3-4a7b-b7bf-2c27fe62b569"
      },
      "outputs": [
        {
          "data": {
            "text/plain": [
              "tensor([[1., 2.],\n",
              "        [3., 4.],\n",
              "        [5., 6.]])"
            ]
          },
          "execution_count": 23,
          "metadata": {},
          "output_type": "execute_result"
        }
      ],
      "source": [
        "b.view(-1, 2)"
      ]
    },
    {
      "cell_type": "code",
      "execution_count": 23,
      "metadata": {
        "colab": {
          "base_uri": "https://localhost:8080/"
        },
        "id": "hWqyugOSYJ-Q",
        "outputId": "ed94a8d8-41a3-4a7b-b7bf-2c27fe62b569"
      },
      "outputs": [
        {
          "data": {
            "text/plain": [
              "tensor([[1., 2., 3.],\n",
              "        [4., 5., 6.]])"
            ]
          },
          "execution_count": 24,
          "metadata": {},
          "output_type": "execute_result"
        }
      ],
      "source": [
        "b"
      ]
    },
    {
      "cell_type": "markdown",
      "metadata": {},
      "source": [
        "contiguous - свойство `torch.Tensor`, указывающее, соответствует ли текущее представление тензора тому, как его данные записаны в памяти"
      ]
    },
    {
      "cell_type": "code",
      "execution_count": 24,
      "metadata": {
        "colab": {
          "base_uri": "https://localhost:8080/"
        },
        "id": "S9CvF56uYJ-U",
        "outputId": "fe2f9279-d516-4c04-ef95-561f1cad5f4b"
      },
      "outputs": [
        {
          "data": {
            "text/plain": [
              "((1, 3), True, False)"
            ]
          },
          "execution_count": 25,
          "metadata": {},
          "output_type": "execute_result"
        }
      ],
      "source": [
        "b.T.stride(), b.is_contiguous(), b.T.is_contiguous()"
      ]
    },
    {
      "cell_type": "markdown",
      "metadata": {
        "colab": {
          "base_uri": "https://localhost:8080/"
        },
        "id": "wet5p_4uJRm6",
        "outputId": "3ff29e31-aa4f-4f3d-bcfd-6ab7f1f0823d"
      },
      "source": [
        "### Изменение типа тензора"
      ]
    },
    {
      "cell_type": "code",
      "execution_count": 5,
      "metadata": {
        "id": "f_iDUEH4YJ-Z"
      },
      "outputs": [],
      "source": [
        "a = torch.FloatTensor([1.5, 3.2, -7])"
      ]
    },
    {
      "cell_type": "code",
      "execution_count": 6,
      "metadata": {
        "id": "f_iDUEH4YJ-Z"
      },
      "outputs": [
        {
          "data": {
            "text/plain": [
              "tensor([ 1,  3, -7], dtype=torch.int32)"
            ]
          },
          "execution_count": 6,
          "metadata": {},
          "output_type": "execute_result"
        }
      ],
      "source": [
        "a.type_as(torch.IntTensor())"
      ]
    },
    {
      "cell_type": "code",
      "execution_count": 7,
      "metadata": {
        "colab": {
          "base_uri": "https://localhost:8080/"
        },
        "id": "EzJOrXitYJ-e",
        "outputId": "dd112a82-f363-4831-bf1f-eb612b320804"
      },
      "outputs": [
        {
          "data": {
            "text/plain": [
              "tensor([ 1,  3, -7], dtype=torch.int32)"
            ]
          },
          "execution_count": 7,
          "metadata": {},
          "output_type": "execute_result"
        }
      ],
      "source": [
        "a.to(torch.int32)"
      ]
    },
    {
      "cell_type": "code",
      "execution_count": 8,
      "metadata": {
        "colab": {
          "base_uri": "https://localhost:8080/"
        },
        "id": "5LrO73QgJuGb",
        "outputId": "6b3efcd1-9a4f-4cda-ba6f-99eaaac9e1d4"
      },
      "outputs": [
        {
          "data": {
            "text/plain": [
              "tensor([  1,   3, 249], dtype=torch.uint8)"
            ]
          },
          "execution_count": 8,
          "metadata": {},
          "output_type": "execute_result"
        }
      ],
      "source": [
        "a.type_as(torch.ByteTensor())"
      ]
    },
    {
      "cell_type": "markdown",
      "metadata": {
        "colab": {
          "base_uri": "https://localhost:8080/"
        },
        "id": "6rOGMU_xJ450",
        "outputId": "1f24d1ed-4caa-41d4-d35b-81f865fd7f64"
      },
      "source": [
        "**Note:** `.type_as()` создаёт новый тензор, не меняя старый"
      ]
    },
    {
      "cell_type": "code",
      "execution_count": 10,
      "metadata": {
        "colab": {
          "base_uri": "https://localhost:8080/"
        },
        "id": "fCgDT14MYJ-o",
        "outputId": "b0bb7f6e-b2a1-4e08-cdc7-308f64106e11"
      },
      "outputs": [
        {
          "data": {
            "text/plain": [
              "tensor([ 1.5000,  3.2000, -7.0000])"
            ]
          },
          "execution_count": 10,
          "metadata": {},
          "output_type": "execute_result"
        }
      ],
      "source": [
        "a"
      ]
    },
    {
      "cell_type": "markdown",
      "metadata": {
        "colab": {
          "base_uri": "https://localhost:8080/"
        },
        "id": "fCgDT14MYJ-o",
        "outputId": "b0bb7f6e-b2a1-4e08-cdc7-308f64106e11"
      },
      "source": [
        "Индексирование - ровно как в `NumPy`:"
      ]
    },
    {
      "cell_type": "code",
      "execution_count": 34,
      "metadata": {
        "colab": {
          "base_uri": "https://localhost:8080/"
        },
        "id": "prr0EGIYYJ-r",
        "outputId": "f2fdb1bf-991a-4551-e332-66a6a2f38924"
      },
      "outputs": [
        {
          "data": {
            "text/plain": [
              "tensor([[100.,  20.,  35.],\n",
              "        [ 15., 163., 534.],\n",
              "        [ 52.,  90.,  66.]])"
            ]
          },
          "execution_count": 34,
          "metadata": {},
          "output_type": "execute_result"
        }
      ],
      "source": [
        "a = torch.FloatTensor([[100, 20, 35], [15, 163, 534], [52, 90, 66]])\n",
        "a"
      ]
    },
    {
      "cell_type": "code",
      "execution_count": 34,
      "metadata": {
        "colab": {
          "base_uri": "https://localhost:8080/"
        },
        "id": "prr0EGIYYJ-r",
        "outputId": "f2fdb1bf-991a-4551-e332-66a6a2f38924"
      },
      "outputs": [
        {
          "data": {
            "text/plain": [
              "tensor(100.)"
            ]
          },
          "execution_count": 35,
          "metadata": {},
          "output_type": "execute_result"
        }
      ],
      "source": [
        "a[0, 0]"
      ]
    },
    {
      "cell_type": "code",
      "execution_count": 35,
      "metadata": {
        "colab": {
          "base_uri": "https://localhost:8080/"
        },
        "id": "IBq7JiccYJ-w",
        "outputId": "9fc31169-f3a5-439a-cd3b-3fca1ec0ecbb"
      },
      "outputs": [
        {
          "data": {
            "text/plain": [
              "tensor([ 20., 163.])"
            ]
          },
          "execution_count": 36,
          "metadata": {},
          "output_type": "execute_result"
        }
      ],
      "source": [
        "a[0:2, 1]"
      ]
    },
    {
      "cell_type": "markdown",
      "metadata": {
        "colab": {
          "base_uri": "https://localhost:8080/"
        },
        "id": "UUZzx2F_YJ-2",
        "outputId": "7031bbca-c5f6-4fae-a3e3-79294dc7ac50"
      },
      "source": [
        "### Арифметические операции\n",
        "\n",
        "| операция | аналоги |\n",
        "|:-:|:-:|\n",
        "|`+`| `torch.add()` |\n",
        "|`-`| `torch.sub()` |\n",
        "|`*`| `torch.mul()` |\n",
        "|`/`| `torch.div()` |"
      ]
    },
    {
      "attachments": {
        "image.png": {
          "image/png": "[encoded data removed]"
        }
      },
      "cell_type": "markdown",
      "metadata": {},
      "source": [
        "![image.png](attachment:image.png)\n",
        "\n",
        "*Помним, что эти и многие другие полезные операции определяются в Python с помощью magic-методов*"
      ]
    },
    {
      "cell_type": "markdown",
      "metadata": {
        "id": "UMpR8T11YJ_D"
      },
      "source": [
        "#### Сложение"
      ]
    },
    {
      "cell_type": "code",
      "execution_count": null,
      "metadata": {
        "id": "1XHkSjEUYJ_D"
      },
      "outputs": [],
      "source": [
        "a = torch.FloatTensor([[1, 2, 3], [10, 20, 30], [100, 200, 300]])\n",
        "b = torch.FloatTensor([[-1, -2, -3], [-10, -20, -30], [100, 200, 300]])"
      ]
    },
    {
      "cell_type": "code",
      "execution_count": 37,
      "metadata": {
        "id": "1XHkSjEUYJ_D"
      },
      "outputs": [
        {
          "data": {
            "text/plain": [
              "tensor([[  0.,   0.,   0.],\n",
              "        [  0.,   0.,   0.],\n",
              "        [200., 400., 600.]])"
            ]
          },
          "execution_count": 38,
          "metadata": {},
          "output_type": "execute_result"
        }
      ],
      "source": [
        "a + b"
      ]
    },
    {
      "cell_type": "code",
      "execution_count": null,
      "metadata": {},
      "outputs": [],
      "source": []
    },
    {
      "cell_type": "code",
      "execution_count": 39,
      "metadata": {
        "colab": {
          "base_uri": "https://localhost:8080/"
        },
        "id": "td25tuFKYJ_H",
        "outputId": "e9a45c64-1b54-4606-c2ef-1199105d2d05"
      },
      "outputs": [
        {
          "data": {
            "text/plain": [
              "tensor([[  0.,   0.,   0.],\n",
              "        [  0.,   0.,   0.],\n",
              "        [200., 400., 600.]])"
            ]
          },
          "execution_count": 39,
          "metadata": {},
          "output_type": "execute_result"
        }
      ],
      "source": [
        "a.add(b)"
      ]
    },
    {
      "cell_type": "code",
      "execution_count": 39,
      "metadata": {
        "colab": {
          "base_uri": "https://localhost:8080/"
        },
        "id": "wHka8PxFYJ_N",
        "outputId": "1736d82c-bfdb-4b4a-f9f2-8cf5519394fc"
      },
      "outputs": [
        {
          "data": {
            "text/plain": [
              "tensor([[  -1.,   -2.,   -3.],\n",
              "        [ -10.,  -20.,  -30.],\n",
              "        [-100., -200., -300.]])"
            ]
          },
          "execution_count": 40,
          "metadata": {},
          "output_type": "execute_result"
        }
      ],
      "source": [
        "b = -a\n",
        "b"
      ]
    },
    {
      "cell_type": "code",
      "execution_count": 40,
      "metadata": {
        "colab": {
          "base_uri": "https://localhost:8080/"
        },
        "id": "FHQj4DbBYJ_Q",
        "outputId": "3ec26615-d6cb-4e0f-a2f2-11ed4d229927"
      },
      "outputs": [
        {
          "data": {
            "text/plain": [
              "tensor([[0., 0., 0.],\n",
              "        [0., 0., 0.],\n",
              "        [0., 0., 0.]])"
            ]
          },
          "execution_count": 41,
          "metadata": {},
          "output_type": "execute_result"
        }
      ],
      "source": [
        "a + b"
      ]
    },
    {
      "cell_type": "markdown",
      "metadata": {
        "colab": {
          "base_uri": "https://localhost:8080/"
        },
        "id": "xLCDzO7iYJ_V",
        "outputId": "64ce8d45-4da2-4963-8361-05906f1cf968"
      },
      "source": [
        "#### Вычитание"
      ]
    },
    {
      "cell_type": "code",
      "execution_count": 42,
      "metadata": {
        "colab": {
          "base_uri": "https://localhost:8080/"
        },
        "id": "PANHq3eFYJ_a",
        "outputId": "84c62349-b107-45ed-8105-915e7ad2807b"
      },
      "outputs": [
        {
          "data": {
            "text/plain": [
              "tensor([[  2.,   4.,   6.],\n",
              "        [ 20.,  40.,  60.],\n",
              "        [200., 400., 600.]])"
            ]
          },
          "execution_count": 42,
          "metadata": {},
          "output_type": "execute_result"
        }
      ],
      "source": [
        "a - b"
      ]
    },
    {
      "cell_type": "code",
      "execution_count": 42,
      "metadata": {
        "colab": {
          "base_uri": "https://localhost:8080/"
        },
        "id": "PANHq3eFYJ_a",
        "outputId": "84c62349-b107-45ed-8105-915e7ad2807b"
      },
      "outputs": [
        {
          "data": {
            "text/plain": [
              "tensor([[  2.,   4.,   6.],\n",
              "        [ 20.,  40.,  60.],\n",
              "        [200., 400., 600.]])"
            ]
          },
          "execution_count": 43,
          "metadata": {},
          "output_type": "execute_result"
        }
      ],
      "source": [
        "a.sub(b) # copy"
      ]
    },
    {
      "cell_type": "code",
      "execution_count": 43,
      "metadata": {
        "colab": {
          "base_uri": "https://localhost:8080/"
        },
        "id": "AH7xhdkRYJ_i",
        "outputId": "e86f6eda-5117-44a3-b67b-829006f4fff8"
      },
      "outputs": [
        {
          "data": {
            "text/plain": [
              "tensor([[  2.,   4.,   6.],\n",
              "        [ 20.,  40.,  60.],\n",
              "        [200., 400., 600.]])"
            ]
          },
          "execution_count": 44,
          "metadata": {},
          "output_type": "execute_result"
        }
      ],
      "source": [
        "a.sub_(b) # inplace"
      ]
    },
    {
      "cell_type": "markdown",
      "metadata": {
        "colab": {
          "base_uri": "https://localhost:8080/"
        },
        "id": "v-sls6QjK98V",
        "outputId": "d0098f45-5fd8-43d6-ad50-ad5b01bc7b7b"
      },
      "source": [
        "#### Умножение (поэлементное)"
      ]
    },
    {
      "cell_type": "code",
      "execution_count": null,
      "metadata": {
        "colab": {
          "base_uri": "https://localhost:8080/"
        },
        "id": "J380CvNGYJ_m",
        "outputId": "1c194f31-d53f-4097-e252-a126c7a6d8ea"
      },
      "outputs": [
        {
          "data": {
            "text/plain": [
              "tensor([[-2.0000e+00, -8.0000e+00, -1.8000e+01],\n",
              "        [-2.0000e+02, -8.0000e+02, -1.8000e+03],\n",
              "        [-2.0000e+04, -8.0000e+04, -1.8000e+05]])"
            ]
          },
          "execution_count": 45,
          "metadata": {},
          "output_type": "execute_result"
        }
      ],
      "source": [
        "a * b"
      ]
    },
    {
      "cell_type": "code",
      "execution_count": 45,
      "metadata": {
        "colab": {
          "base_uri": "https://localhost:8080/"
        },
        "id": "J380CvNGYJ_m",
        "outputId": "1c194f31-d53f-4097-e252-a126c7a6d8ea"
      },
      "outputs": [
        {
          "data": {
            "text/plain": [
              "tensor([[-2.0000e+00, -8.0000e+00, -1.8000e+01],\n",
              "        [-2.0000e+02, -8.0000e+02, -1.8000e+03],\n",
              "        [-2.0000e+04, -8.0000e+04, -1.8000e+05]])"
            ]
          },
          "execution_count": 46,
          "metadata": {},
          "output_type": "execute_result"
        }
      ],
      "source": [
        "a.mul(b)"
      ]
    },
    {
      "cell_type": "markdown",
      "metadata": {
        "colab": {
          "base_uri": "https://localhost:8080/"
        },
        "id": "cixW0jgdYJ_o",
        "outputId": "5b6e4971-5032-4200-ca63-f7f25bc9dd3c"
      },
      "source": [
        "#### Деление (поэлементное):"
      ]
    },
    {
      "cell_type": "code",
      "execution_count": null,
      "metadata": {
        "id": "fUBQns2SYJ_r"
      },
      "outputs": [],
      "source": [
        "a = torch.FloatTensor([[1, 2, 3], [10, 20, 30], [100, 200, 300]])\n",
        "b = torch.FloatTensor([[-1, -2, -3], [-10, -20, -30], [100, 200, 300]])"
      ]
    },
    {
      "cell_type": "code",
      "execution_count": 47,
      "metadata": {
        "id": "fUBQns2SYJ_r"
      },
      "outputs": [
        {
          "data": {
            "text/plain": [
              "tensor([[-1., -1., -1.],\n",
              "        [-1., -1., -1.],\n",
              "        [ 1.,  1.,  1.]])"
            ]
          },
          "execution_count": 48,
          "metadata": {},
          "output_type": "execute_result"
        }
      ],
      "source": [
        "a / b"
      ]
    },
    {
      "cell_type": "code",
      "execution_count": 48,
      "metadata": {
        "colab": {
          "base_uri": "https://localhost:8080/"
        },
        "id": "2hrKeMjAYJ_v",
        "outputId": "5ef8fab2-da30-406b-b0a6-3aae04de9e1c"
      },
      "outputs": [
        {
          "data": {
            "text/plain": [
              "tensor([[-1., -1., -1.],\n",
              "        [-1., -1., -1.],\n",
              "        [ 1.,  1.,  1.]])"
            ]
          },
          "execution_count": 49,
          "metadata": {},
          "output_type": "execute_result"
        }
      ],
      "source": [
        "a.div(b)"
      ]
    },
    {
      "cell_type": "markdown",
      "metadata": {
        "colab": {
          "base_uri": "https://localhost:8080/"
        },
        "id": "cpg3YFVPYJ_2",
        "outputId": "d7813f61-f134-41a5-eea2-77abd21f7ffb"
      },
      "source": [
        "**Примечание:** все эти операции создают новые тензоры, старые тензоры остаются неизменными."
      ]
    },
    {
      "cell_type": "code",
      "execution_count": null,
      "metadata": {
        "colab": {
          "base_uri": "https://localhost:8080/"
        },
        "id": "57BFtnlgYJ_8",
        "outputId": "3b41b3df-8c26-40ba-fd50-ea6d86080d2f"
      },
      "outputs": [
        {
          "data": {
            "text/plain": [
              "tensor([[  1.,   2.,   3.],\n",
              "        [ 10.,  20.,  30.],\n",
              "        [100., 200., 300.]])"
            ]
          },
          "execution_count": 50,
          "metadata": {},
          "output_type": "execute_result"
        }
      ],
      "source": [
        "a"
      ]
    },
    {
      "cell_type": "code",
      "execution_count": 50,
      "metadata": {
        "colab": {
          "base_uri": "https://localhost:8080/"
        },
        "id": "57BFtnlgYJ_8",
        "outputId": "3b41b3df-8c26-40ba-fd50-ea6d86080d2f"
      },
      "outputs": [
        {
          "data": {
            "text/plain": [
              "tensor([[ -1.,  -2.,  -3.],\n",
              "        [-10., -20., -30.],\n",
              "        [100., 200., 300.]])"
            ]
          },
          "execution_count": 51,
          "metadata": {},
          "output_type": "execute_result"
        }
      ],
      "source": [
        "b"
      ]
    },
    {
      "cell_type": "markdown",
      "metadata": {
        "colab": {
          "base_uri": "https://localhost:8080/"
        },
        "id": "UziXyvtDYJ_-",
        "outputId": "3a77920d-7fbc-4927-f221-5e8f7b1bc2f2"
      },
      "source": [
        "### Операторы сравнения"
      ]
    },
    {
      "cell_type": "code",
      "execution_count": null,
      "metadata": {
        "id": "FfRzvw_UYKAC"
      },
      "outputs": [],
      "source": [
        "a = torch.FloatTensor([[1, 2, 3], [10, 20, 30], [100, 200, 300]])\n",
        "b = torch.FloatTensor([[-1, -2, -3], [-10, -20, -30], [100, 200, 300]])"
      ]
    },
    {
      "cell_type": "code",
      "execution_count": 52,
      "metadata": {
        "id": "FfRzvw_UYKAC"
      },
      "outputs": [
        {
          "data": {
            "text/plain": [
              "tensor([[False, False, False],\n",
              "        [False, False, False],\n",
              "        [ True,  True,  True]])"
            ]
          },
          "execution_count": 53,
          "metadata": {},
          "output_type": "execute_result"
        }
      ],
      "source": [
        "a == b"
      ]
    },
    {
      "cell_type": "code",
      "execution_count": 53,
      "metadata": {
        "colab": {
          "base_uri": "https://localhost:8080/"
        },
        "id": "o1RUTP2BYKAD",
        "outputId": "4a611a77-f313-48f6-e293-095eb0f76cdf"
      },
      "outputs": [
        {
          "data": {
            "text/plain": [
              "tensor([[ True,  True,  True],\n",
              "        [ True,  True,  True],\n",
              "        [False, False, False]])"
            ]
          },
          "execution_count": 54,
          "metadata": {},
          "output_type": "execute_result"
        }
      ],
      "source": [
        "a != b"
      ]
    },
    {
      "cell_type": "code",
      "execution_count": 54,
      "metadata": {
        "colab": {
          "base_uri": "https://localhost:8080/"
        },
        "id": "JO3HaVIAYKAF",
        "outputId": "49111463-ef42-4067-e354-3eb134338f3d"
      },
      "outputs": [
        {
          "data": {
            "text/plain": [
              "tensor([[False, False, False],\n",
              "        [False, False, False],\n",
              "        [False, False, False]])"
            ]
          },
          "execution_count": 55,
          "metadata": {},
          "output_type": "execute_result"
        }
      ],
      "source": [
        "a < b"
      ]
    },
    {
      "cell_type": "code",
      "execution_count": 55,
      "metadata": {
        "colab": {
          "base_uri": "https://localhost:8080/"
        },
        "id": "DExLBj4VYKAH",
        "outputId": "5d502c89-47b9-4df2-b32f-8f152cfb2a7e"
      },
      "outputs": [
        {
          "data": {
            "text/plain": [
              "tensor([[ True,  True,  True],\n",
              "        [ True,  True,  True],\n",
              "        [False, False, False]])"
            ]
          },
          "execution_count": 56,
          "metadata": {},
          "output_type": "execute_result"
        }
      ],
      "source": [
        "a > b"
      ]
    },
    {
      "cell_type": "markdown",
      "metadata": {
        "colab": {
          "base_uri": "https://localhost:8080/"
        },
        "id": "0_IH_FUNYKAJ",
        "outputId": "92e7db00-81d1-4ad8-d642-ef68cc70bbe7"
      },
      "source": [
        "### Использование индексации по логической маске"
      ]
    },
    {
      "cell_type": "code",
      "execution_count": 57,
      "metadata": {
        "colab": {
          "base_uri": "https://localhost:8080/"
        },
        "id": "C-xVDslwYKAN",
        "outputId": "6ef2584b-9233-4573-e391-ad92e199cc11"
      },
      "outputs": [
        {
          "data": {
            "text/plain": [
              "tensor([ 1.,  2.,  3., 10., 20., 30.])"
            ]
          },
          "execution_count": 57,
          "metadata": {},
          "output_type": "execute_result"
        }
      ],
      "source": [
        "a[a > b]"
      ]
    },
    {
      "cell_type": "code",
      "execution_count": 58,
      "metadata": {
        "colab": {
          "base_uri": "https://localhost:8080/"
        },
        "id": "XatDJF5YYKAQ",
        "outputId": "0e4e7c4e-b9be-4363-9425-9092ffa1f873"
      },
      "outputs": [
        {
          "data": {
            "text/plain": [
              "tensor([100., 200., 300.])"
            ]
          },
          "execution_count": 58,
          "metadata": {},
          "output_type": "execute_result"
        }
      ],
      "source": [
        "b[a == b]"
      ]
    },
    {
      "cell_type": "markdown",
      "metadata": {
        "id": "54bQky1bYKAf"
      },
      "source": [
        "### Поэлементное применение **универсальных функций**"
      ]
    },
    {
      "cell_type": "code",
      "execution_count": 59,
      "metadata": {
        "id": "lWnGSuUhYKAf"
      },
      "outputs": [],
      "source": [
        "a = torch.FloatTensor([[1, 2, 3], [10, 20, 30], [100, 200, 300]])"
      ]
    },
    {
      "cell_type": "code",
      "execution_count": 60,
      "metadata": {
        "colab": {
          "base_uri": "https://localhost:8080/"
        },
        "id": "J6ZyxZBNYKAl",
        "outputId": "f907d445-3a9b-4705-da3d-ea977c3a4caa"
      },
      "outputs": [
        {
          "data": {
            "text/plain": [
              "tensor([[ 0.8415,  0.9093,  0.1411],\n",
              "        [-0.5440,  0.9129, -0.9880],\n",
              "        [-0.5064, -0.8733, -0.9998]])"
            ]
          },
          "execution_count": 60,
          "metadata": {},
          "output_type": "execute_result"
        }
      ],
      "source": [
        "a.sin()"
      ]
    },
    {
      "cell_type": "code",
      "execution_count": 61,
      "metadata": {
        "colab": {
          "base_uri": "https://localhost:8080/"
        },
        "id": "SScTSkJMYKAo",
        "outputId": "1334afb7-570d-4a35-ec5b-164c4ca144f8"
      },
      "outputs": [
        {
          "data": {
            "text/plain": [
              "tensor([[ 0.8415,  0.9093,  0.1411],\n",
              "        [-0.5440,  0.9129, -0.9880],\n",
              "        [-0.5064, -0.8733, -0.9998]])"
            ]
          },
          "execution_count": 61,
          "metadata": {},
          "output_type": "execute_result"
        }
      ],
      "source": [
        "torch.sin(a)"
      ]
    },
    {
      "cell_type": "code",
      "execution_count": 62,
      "metadata": {
        "colab": {
          "base_uri": "https://localhost:8080/"
        },
        "id": "0bYVYVV7YKAr",
        "outputId": "24b7e541-4040-44c9-a520-77bbe3485388"
      },
      "outputs": [
        {
          "data": {
            "text/plain": [
              "tensor([[ 1.5574, -2.1850, -0.1425],\n",
              "        [ 0.6484,  2.2372, -6.4053],\n",
              "        [-0.5872, -1.7925, 45.2447]])"
            ]
          },
          "execution_count": 62,
          "metadata": {},
          "output_type": "execute_result"
        }
      ],
      "source": [
        "a.tan()"
      ]
    },
    {
      "cell_type": "code",
      "execution_count": 63,
      "metadata": {
        "colab": {
          "base_uri": "https://localhost:8080/"
        },
        "id": "c-rYL8HQYKAt",
        "outputId": "f44b9173-efbd-4cc1-c68a-80c4151683d8"
      },
      "outputs": [
        {
          "data": {
            "text/plain": [
              "tensor([[2.7183e+00, 7.3891e+00, 2.0086e+01],\n",
              "        [2.2026e+04, 4.8517e+08, 1.0686e+13],\n",
              "        [       inf,        inf,        inf]])"
            ]
          },
          "execution_count": 63,
          "metadata": {},
          "output_type": "execute_result"
        }
      ],
      "source": [
        "a.exp()"
      ]
    },
    {
      "cell_type": "code",
      "execution_count": 64,
      "metadata": {
        "colab": {
          "base_uri": "https://localhost:8080/"
        },
        "id": "EbiCDYUzYKAw",
        "outputId": "b0a12eb8-24d3-4008-9a87-8c1bc2a37d2f"
      },
      "outputs": [
        {
          "data": {
            "text/plain": [
              "tensor([[0.0000, 0.6931, 1.0986],\n",
              "        [2.3026, 2.9957, 3.4012],\n",
              "        [4.6052, 5.2983, 5.7038]])"
            ]
          },
          "execution_count": 64,
          "metadata": {},
          "output_type": "execute_result"
        }
      ],
      "source": [
        "a.log()"
      ]
    },
    {
      "cell_type": "code",
      "execution_count": 65,
      "metadata": {
        "colab": {
          "base_uri": "https://localhost:8080/"
        },
        "id": "yh1sySpiYKAy",
        "outputId": "71f5fc95-c70b-4037-cfb6-3ecc3d262d03"
      },
      "outputs": [
        {
          "data": {
            "text/plain": [
              "tensor([[  -1.,   -2.,   -3.],\n",
              "        [ -10.,  -20.,  -30.],\n",
              "        [-100., -200., -300.]])"
            ]
          },
          "execution_count": 65,
          "metadata": {},
          "output_type": "execute_result"
        }
      ],
      "source": [
        "b = -a\n",
        "b"
      ]
    },
    {
      "cell_type": "code",
      "execution_count": 66,
      "metadata": {
        "colab": {
          "base_uri": "https://localhost:8080/"
        },
        "id": "PNU0UxqIYKA2",
        "outputId": "17008632-fa44-448a-cc87-fe7b1373d05a"
      },
      "outputs": [
        {
          "data": {
            "text/plain": [
              "tensor([[  1.,   2.,   3.],\n",
              "        [ 10.,  20.,  30.],\n",
              "        [100., 200., 300.]])"
            ]
          },
          "execution_count": 66,
          "metadata": {},
          "output_type": "execute_result"
        }
      ],
      "source": [
        "b.abs()"
      ]
    },
    {
      "cell_type": "markdown",
      "metadata": {
        "id": "eqERQjISYKA9"
      },
      "source": [
        "### Агрегация и работа с осями\n",
        "#### sum, mean, max, min:"
      ]
    },
    {
      "cell_type": "code",
      "execution_count": 67,
      "metadata": {
        "colab": {
          "base_uri": "https://localhost:8080/"
        },
        "id": "HLmJGdl9YKA-",
        "outputId": "a6204bea-32bb-447d-cf8c-7574ebb164ec"
      },
      "outputs": [
        {
          "data": {
            "text/plain": [
              "tensor([  6.,  60., 600.])"
            ]
          },
          "execution_count": 67,
          "metadata": {},
          "output_type": "execute_result"
        }
      ],
      "source": [
        "a.sum(dim=1)"
      ]
    },
    {
      "cell_type": "code",
      "execution_count": 68,
      "metadata": {
        "colab": {
          "base_uri": "https://localhost:8080/"
        },
        "id": "ervIuNGnYKBD",
        "outputId": "ff444bc6-c56e-43eb-9ea1-d4551194e16a"
      },
      "outputs": [
        {
          "data": {
            "text/plain": [
              "tensor(74.)"
            ]
          },
          "execution_count": 68,
          "metadata": {},
          "output_type": "execute_result"
        }
      ],
      "source": [
        "a.mean()"
      ]
    },
    {
      "cell_type": "markdown",
      "metadata": {
        "id": "1qxkdUQ2YKBF"
      },
      "source": [
        "#### Применение функции вдоль оси"
      ]
    },
    {
      "cell_type": "code",
      "execution_count": 69,
      "metadata": {
        "colab": {
          "base_uri": "https://localhost:8080/"
        },
        "id": "OzU2H7jBbdS-",
        "outputId": "a701fb53-3b9b-435c-cb17-620c69315d7c"
      },
      "outputs": [
        {
          "data": {
            "text/plain": [
              "tensor([[  1.,   2.,   3.],\n",
              "        [ 10.,  20.,  30.],\n",
              "        [100., 200., 300.]])"
            ]
          },
          "execution_count": 69,
          "metadata": {},
          "output_type": "execute_result"
        }
      ],
      "source": [
        "a"
      ]
    },
    {
      "cell_type": "code",
      "execution_count": 70,
      "metadata": {
        "colab": {
          "base_uri": "https://localhost:8080/"
        },
        "id": "cc6RjJYeYKBG",
        "outputId": "78e942a6-5820-4fde-88d2-d5e1ce0665c9"
      },
      "outputs": [
        {
          "data": {
            "text/plain": [
              "tensor([111., 222., 333.])"
            ]
          },
          "execution_count": 70,
          "metadata": {},
          "output_type": "execute_result"
        }
      ],
      "source": [
        "a.sum(dim=0)"
      ]
    },
    {
      "cell_type": "code",
      "execution_count": 71,
      "metadata": {
        "colab": {
          "base_uri": "https://localhost:8080/"
        },
        "id": "Dgi5BmhOYKBJ",
        "outputId": "a6e73d38-78bc-42d2-da86-bccd3f9bb772"
      },
      "outputs": [
        {
          "data": {
            "text/plain": [
              "tensor([  6.,  60., 600.])"
            ]
          },
          "execution_count": 71,
          "metadata": {},
          "output_type": "execute_result"
        }
      ],
      "source": [
        "a.sum(dim=1)"
      ]
    },
    {
      "cell_type": "code",
      "execution_count": 72,
      "metadata": {
        "colab": {
          "base_uri": "https://localhost:8080/"
        },
        "id": "-tIkcTENYKBK",
        "outputId": "bd0f3557-ca04-4c9d-94f5-1c01947f4432"
      },
      "outputs": [
        {
          "data": {
            "text/plain": [
              "tensor(300.)"
            ]
          },
          "execution_count": 72,
          "metadata": {},
          "output_type": "execute_result"
        }
      ],
      "source": [
        "a.max()"
      ]
    },
    {
      "cell_type": "code",
      "execution_count": 73,
      "metadata": {
        "colab": {
          "base_uri": "https://localhost:8080/"
        },
        "id": "V4U_LyyPYKBL",
        "outputId": "b3e7f4e1-2ade-4d73-f3f5-16a9e1af266b"
      },
      "outputs": [
        {
          "data": {
            "text/plain": [
              "torch.return_types.max(\n",
              "values=tensor([100., 200., 300.]),\n",
              "indices=tensor([2, 2, 2]))"
            ]
          },
          "execution_count": 73,
          "metadata": {},
          "output_type": "execute_result"
        }
      ],
      "source": [
        "a.max(0)"
      ]
    },
    {
      "cell_type": "markdown",
      "metadata": {
        "id": "Ys-9hnr4YKBS"
      },
      "source": [
        "**Примечание:** второй тензор, возвращаемый `.max()`, содержит индексы элементов max вдоль этой оси. Например. в этом случае `a.max ()` вернула `(100, 200, 300)`, которые являются минимальными элементами по оси 0 (вдоль столбцов), а их индексы по оси 0 равны `(2, 2, 2)`.\n"
      ]
    },
    {
      "cell_type": "markdown",
      "metadata": {
        "id": "utha2fm_zdmx"
      },
      "source": [
        "#### Фиктивные оси\n",
        "\n",
        "Иногда очень сложно бывает разобраться, как правильно выбрать оси для применения операций с многомерными массивами. Поэтому сейчас мы решим на эту тему пару задач.\n",
        "Сначала посмотрим, как создавать у массивов новые фиктивные оси, это нам пригодится."
      ]
    },
    {
      "cell_type": "code",
      "execution_count": 74,
      "metadata": {
        "colab": {
          "base_uri": "https://localhost:8080/"
        },
        "id": "0E6stC7-0J1r",
        "outputId": "cf60029f-10ab-48b3-9471-8bf54187c7e0"
      },
      "outputs": [
        {
          "data": {
            "text/plain": [
              "torch.Size([3, 1, 3])"
            ]
          },
          "execution_count": 74,
          "metadata": {},
          "output_type": "execute_result"
        }
      ],
      "source": [
        "a = torch.FloatTensor([[1, 2, 3], [10, 20, 30], [100, 200, 300]])\n",
        "\n",
        "a[:, None, :].shape"
      ]
    },
    {
      "cell_type": "code",
      "execution_count": 75,
      "metadata": {
        "colab": {
          "base_uri": "https://localhost:8080/"
        },
        "id": "FgfUrKpk0fLg",
        "outputId": "07a3b509-2385-4e86-b91e-1451349258f2"
      },
      "outputs": [
        {
          "data": {
            "text/plain": [
              "tensor([[[  1.],\n",
              "         [  2.],\n",
              "         [  3.]],\n",
              "\n",
              "        [[ 10.],\n",
              "         [ 20.],\n",
              "         [ 30.]],\n",
              "\n",
              "        [[100.],\n",
              "         [200.],\n",
              "         [300.]]])"
            ]
          },
          "execution_count": 75,
          "metadata": {},
          "output_type": "execute_result"
        }
      ],
      "source": [
        "a[:, :, None]"
      ]
    },
    {
      "cell_type": "markdown",
      "metadata": {
        "id": "5YEpNZ3YyKzi"
      },
      "source": [
        "#### Задача на нормализацию изображения\n",
        "Реализуйте функцию ``normalize_pictures(A)``, которая принимает на вход четырёхмерный тензор --- батч из ``batch_size`` изображений, каждое из которых является трехмерным тензором формы (num_channels, width, height). Нужно стандартизировать изображение по каждому каналу, то есть сделать так, чтобы среднее значение яркости каждого канала (по всем изображениям и всем пикселям) было равно 0, а стандартное отклонение --- 1."
      ]
    },
    {
      "cell_type": "code",
      "execution_count": 77,
      "metadata": {
        "id": "jNGjlcaVy3WT"
      },
      "outputs": [],
      "source": [
        "def normalize_pictures(A):\n",
        "    \"\"\"\n",
        "    param A: torch.Tensor[batch_size, num_channels, width, height]\n",
        "    \"\"\"\n",
        "\n",
        "    # YOUR CODE\n",
        "\n",
        "    return result"
      ]
    },
    {
      "cell_type": "code",
      "execution_count": 78,
      "metadata": {
        "colab": {
          "base_uri": "https://localhost:8080/"
        },
        "id": "ZFUY4oookJ9i",
        "outputId": "f2b57073-9eca-438b-e773-a7abc258de12"
      },
      "outputs": [
        {
          "data": {
            "text/plain": [
              "torch.Size([64, 3])"
            ]
          },
          "execution_count": 78,
          "metadata": {},
          "output_type": "execute_result"
        }
      ],
      "source": [
        "batch = torch.randint(0, 156, (64, 3, 300, 300), dtype=torch.float32)\n",
        "batch.mean(dim=(2,3)).shape"
      ]
    },
    {
      "cell_type": "code",
      "execution_count": 114,
      "metadata": {
        "id": "OttmzUHWzOiA"
      },
      "outputs": [
        {
          "name": "stdout",
          "output_type": "stream",
          "text": [
            "torch.Size([64, 3])\n",
            "tensor([[1.0000, 1.0000, 1.0000],\n",
            "        [1.0000, 1.0000, 1.0000],\n",
            "        [1.0000, 1.0000, 1.0000],\n",
            "        [1.0000, 1.0000, 1.0000],\n",
            "        [1.0000, 1.0000, 1.0000],\n",
            "        [1.0000, 1.0000, 1.0000],\n",
            "        [1.0000, 1.0000, 1.0000],\n",
            "        [1.0000, 1.0000, 1.0000],\n",
            "        [1.0000, 1.0000, 1.0000],\n",
            "        [1.0000, 1.0000, 1.0000],\n",
            "        [1.0000, 1.0000, 1.0000],\n",
            "        [1.0000, 1.0000, 1.0000],\n",
            "        [1.0000, 1.0000, 1.0000],\n",
            "        [1.0000, 1.0000, 1.0000],\n",
            "        [1.0000, 1.0000, 1.0000],\n",
            "        [1.0000, 1.0000, 1.0000],\n",
            "        [1.0000, 1.0000, 1.0000],\n",
            "        [1.0000, 1.0000, 1.0000],\n",
            "        [1.0000, 1.0000, 1.0000],\n",
            "        [1.0000, 1.0000, 1.0000],\n",
            "        [1.0000, 1.0000, 1.0000],\n",
            "        [1.0000, 1.0000, 1.0000],\n",
            "        [1.0000, 1.0000, 1.0000],\n",
            "        [1.0000, 1.0000, 1.0000],\n",
            "        [1.0000, 1.0000, 1.0000],\n",
            "        [1.0000, 1.0000, 1.0000],\n",
            "        [1.0000, 1.0000, 1.0000],\n",
            "        [1.0000, 1.0000, 1.0000],\n",
            "        [1.0000, 1.0000, 1.0000],\n",
            "        [1.0000, 1.0000, 1.0000],\n",
            "        [1.0000, 1.0000, 1.0000],\n",
            "        [1.0000, 1.0000, 1.0000],\n",
            "        [1.0000, 1.0000, 1.0000],\n",
            "        [1.0000, 1.0000, 1.0000],\n",
            "        [1.0000, 1.0000, 1.0000],\n",
            "        [1.0000, 1.0000, 1.0000],\n",
            "        [1.0000, 1.0000, 1.0000],\n",
            "        [1.0000, 1.0000, 1.0000],\n",
            "        [1.0000, 1.0000, 1.0000],\n",
            "        [1.0000, 1.0000, 1.0000],\n",
            "        [1.0000, 1.0000, 1.0000],\n",
            "        [1.0000, 1.0000, 1.0000],\n",
            "        [1.0000, 1.0000, 1.0000],\n",
            "        [1.0000, 1.0000, 1.0000],\n",
            "        [1.0000, 1.0000, 1.0000],\n",
            "        [1.0000, 1.0000, 1.0000],\n",
            "        [1.0000, 1.0000, 1.0000],\n",
            "        [1.0000, 1.0000, 1.0000],\n",
            "        [1.0000, 1.0000, 1.0000],\n",
            "        [1.0000, 1.0000, 1.0000],\n",
            "        [1.0000, 1.0000, 1.0000],\n",
            "        [1.0000, 1.0000, 1.0000],\n",
            "        [1.0000, 1.0000, 1.0000],\n",
            "        [1.0000, 1.0000, 1.0000],\n",
            "        [1.0000, 1.0000, 1.0000],\n",
            "        [1.0000, 1.0000, 1.0000],\n",
            "        [1.0000, 1.0000, 1.0000],\n",
            "        [1.0000, 1.0000, 1.0000],\n",
            "        [1.0000, 1.0000, 1.0000],\n",
            "        [1.0000, 1.0000, 1.0000],\n",
            "        [1.0000, 1.0000, 1.0000],\n",
            "        [1.0000, 1.0000, 1.0000],\n",
            "        [1.0000, 1.0000, 1.0000],\n",
            "        [1.0000, 1.0000, 1.0000]])\n"
          ]
        }
      ],
      "source": [
        "batch = torch.randint(0, 256, (64, 3, 300, 300), dtype=torch.float32)\n",
        "\n",
        "B = normalize_pictures(batch)\n",
        "\n",
        "print(B.mean(dim=(2,3)).shape)\n",
        "print(B.std(dim=(2,3)))"
      ]
    },
    {
      "cell_type": "markdown",
      "metadata": {
        "id": "kepFeTZ0YKBV"
      },
      "source": [
        "## Матричные операции"
      ]
    },
    {
      "cell_type": "markdown",
      "metadata": {
        "id": "7RYm3mdrYKBX"
      },
      "source": [
        "#### Транспонирование тензора"
      ]
    },
    {
      "cell_type": "code",
      "execution_count": 80,
      "metadata": {
        "colab": {
          "base_uri": "https://localhost:8080/"
        },
        "id": "T8-1TSkeYKBY",
        "outputId": "aca565b2-ea0c-4909-964a-05cc5a3e6f68"
      },
      "outputs": [
        {
          "data": {
            "text/plain": [
              "tensor([[  1.,   2.,   3.],\n",
              "        [ 10.,  20.,  30.],\n",
              "        [100., 200., 300.]])"
            ]
          },
          "execution_count": 80,
          "metadata": {},
          "output_type": "execute_result"
        }
      ],
      "source": [
        "a = torch.FloatTensor([[1, 2, 3], [10, 20, 30], [100, 200, 300]])\n",
        "a"
      ]
    },
    {
      "cell_type": "code",
      "execution_count": 81,
      "metadata": {
        "colab": {
          "base_uri": "https://localhost:8080/"
        },
        "id": "HSAZwai7YKBa",
        "outputId": "6506227d-85fc-4b22-e1a9-8b212c742d2b"
      },
      "outputs": [
        {
          "data": {
            "text/plain": [
              "tensor([[  1.,  10., 100.],\n",
              "        [  2.,  20., 200.],\n",
              "        [  3.,  30., 300.]])"
            ]
          },
          "execution_count": 81,
          "metadata": {},
          "output_type": "execute_result"
        }
      ],
      "source": [
        "a.t()"
      ]
    },
    {
      "cell_type": "markdown",
      "metadata": {
        "id": "QqsPkleRYKBd"
      },
      "source": [
        "Это тоже не inplace-операция:"
      ]
    },
    {
      "cell_type": "code",
      "execution_count": 82,
      "metadata": {
        "colab": {
          "base_uri": "https://localhost:8080/"
        },
        "id": "NRPamd2EYKBe",
        "outputId": "6a8d5de2-9753-4b25-a31d-7f3910a235fe"
      },
      "outputs": [
        {
          "data": {
            "text/plain": [
              "tensor([[  1.,   2.,   3.],\n",
              "        [ 10.,  20.,  30.],\n",
              "        [100., 200., 300.]])"
            ]
          },
          "execution_count": 82,
          "metadata": {},
          "output_type": "execute_result"
        }
      ],
      "source": [
        "a"
      ]
    },
    {
      "cell_type": "markdown",
      "metadata": {
        "id": "q8YhoxHPYKBh"
      },
      "source": [
        "#### Скалярное произведение векторов"
      ]
    },
    {
      "cell_type": "code",
      "execution_count": 83,
      "metadata": {
        "id": "i1pRtl7HYKBi"
      },
      "outputs": [],
      "source": [
        "a = torch.FloatTensor([1, 2, 3, 4, 5, 6])\n",
        "b = torch.FloatTensor([-1, -2, -4, -6, -8, -10])"
      ]
    },
    {
      "cell_type": "code",
      "execution_count": 84,
      "metadata": {
        "colab": {
          "base_uri": "https://localhost:8080/"
        },
        "id": "qcS-28dwYKBp",
        "outputId": "9846a5f9-d2bf-4b3f-caf0-056fc0109ee8"
      },
      "outputs": [
        {
          "data": {
            "text/plain": [
              "tensor(-141.)"
            ]
          },
          "execution_count": 84,
          "metadata": {},
          "output_type": "execute_result"
        }
      ],
      "source": [
        "a.dot(b)"
      ]
    },
    {
      "cell_type": "code",
      "execution_count": 85,
      "metadata": {
        "colab": {
          "base_uri": "https://localhost:8080/"
        },
        "id": "sBiRR1V3LP-r",
        "outputId": "b8b20971-79bb-4da6-b008-5e1a4a387b18"
      },
      "outputs": [
        {
          "data": {
            "text/plain": [
              "(torch.Size([6]), torch.Size([6]))"
            ]
          },
          "execution_count": 85,
          "metadata": {},
          "output_type": "execute_result"
        }
      ],
      "source": [
        "a.shape, b.shape"
      ]
    },
    {
      "cell_type": "code",
      "execution_count": 86,
      "metadata": {
        "colab": {
          "base_uri": "https://localhost:8080/"
        },
        "id": "MXyhOelQYKBs",
        "outputId": "4f92a038-5f36-43e2-a4be-a50d321e1fdb"
      },
      "outputs": [
        {
          "data": {
            "text/plain": [
              "tensor(-141.)"
            ]
          },
          "execution_count": 86,
          "metadata": {},
          "output_type": "execute_result"
        }
      ],
      "source": [
        "a @ b"
      ]
    },
    {
      "cell_type": "code",
      "execution_count": 87,
      "metadata": {
        "colab": {
          "base_uri": "https://localhost:8080/"
        },
        "id": "sxqg4xhoYKBt",
        "outputId": "cb1e601e-ecea-42f3-bf10-e12babfe57af"
      },
      "outputs": [
        {
          "data": {
            "text/plain": [
              "torch.Tensor"
            ]
          },
          "execution_count": 87,
          "metadata": {},
          "output_type": "execute_result"
        }
      ],
      "source": [
        "type(a)"
      ]
    },
    {
      "cell_type": "code",
      "execution_count": 88,
      "metadata": {
        "colab": {
          "base_uri": "https://localhost:8080/"
        },
        "id": "_v2ZjPqDYKBz",
        "outputId": "d524bb4f-caf7-4e39-d681-9850f9fe63ec"
      },
      "outputs": [
        {
          "data": {
            "text/plain": [
              "torch.Tensor"
            ]
          },
          "execution_count": 88,
          "metadata": {},
          "output_type": "execute_result"
        }
      ],
      "source": [
        "type(b)"
      ]
    },
    {
      "cell_type": "code",
      "execution_count": 89,
      "metadata": {
        "colab": {
          "base_uri": "https://localhost:8080/"
        },
        "id": "UsWB9vTuYKB0",
        "outputId": "37980664-95ee-4852-da62-5ca6772548a0"
      },
      "outputs": [
        {
          "data": {
            "text/plain": [
              "torch.Tensor"
            ]
          },
          "execution_count": 89,
          "metadata": {},
          "output_type": "execute_result"
        }
      ],
      "source": [
        "type(a @ b)"
      ]
    },
    {
      "cell_type": "markdown",
      "metadata": {
        "id": "KSrnLwkGYKB1"
      },
      "source": [
        "#### Матричное произведение"
      ]
    },
    {
      "cell_type": "code",
      "execution_count": 90,
      "metadata": {
        "id": "ViurnbjPYKB2"
      },
      "outputs": [],
      "source": [
        "a = torch.FloatTensor([[1, 2, 3], [10, 20, 30], [100, 200, 300]])\n",
        "b = torch.FloatTensor([[-1, -2, -3], [-10, -20, -30], [100, 200, 300]])"
      ]
    },
    {
      "cell_type": "code",
      "execution_count": 91,
      "metadata": {
        "colab": {
          "base_uri": "https://localhost:8080/"
        },
        "id": "5TrCnfWiYKB3",
        "outputId": "9d920c83-cd01-4207-ea73-3373efed9e9f"
      },
      "outputs": [
        {
          "data": {
            "text/plain": [
              "tensor([[  279.,   558.,   837.],\n",
              "        [ 2790.,  5580.,  8370.],\n",
              "        [27900., 55800., 83700.]])"
            ]
          },
          "execution_count": 91,
          "metadata": {},
          "output_type": "execute_result"
        }
      ],
      "source": [
        "a.mm(b)"
      ]
    },
    {
      "cell_type": "code",
      "execution_count": 92,
      "metadata": {
        "colab": {
          "base_uri": "https://localhost:8080/"
        },
        "id": "HMzIz-_MYKB4",
        "outputId": "1f41001d-524f-43fe-ce7f-e602d5f54c3c"
      },
      "outputs": [
        {
          "data": {
            "text/plain": [
              "tensor([[  279.,   558.,   837.],\n",
              "        [ 2790.,  5580.,  8370.],\n",
              "        [27900., 55800., 83700.]])"
            ]
          },
          "execution_count": 92,
          "metadata": {},
          "output_type": "execute_result"
        }
      ],
      "source": [
        "a @ b"
      ]
    },
    {
      "cell_type": "code",
      "execution_count": 93,
      "metadata": {
        "id": "vtuvt20-YKB8"
      },
      "outputs": [],
      "source": [
        "a = torch.FloatTensor([[1, 2, 3], [10, 20, 30], [100, 200, 300]])\n",
        "b = torch.FloatTensor([[-1], [-10], [100]])"
      ]
    },
    {
      "cell_type": "code",
      "execution_count": 94,
      "metadata": {
        "colab": {
          "base_uri": "https://localhost:8080/"
        },
        "id": "fdDnu5XjYKB9",
        "outputId": "1a6c1ff2-a2e3-4f3f-8bd4-f644b9f82c97"
      },
      "outputs": [
        {
          "name": "stdout",
          "output_type": "stream",
          "text": [
            "torch.Size([3, 3]) torch.Size([3, 1])\n"
          ]
        }
      ],
      "source": [
        "print(a.shape, b.shape)"
      ]
    },
    {
      "cell_type": "code",
      "execution_count": 95,
      "metadata": {
        "colab": {
          "base_uri": "https://localhost:8080/"
        },
        "id": "oD4N4WN8YKB_",
        "outputId": "595cf2fb-820f-4029-fbc7-e21fc140ba9f"
      },
      "outputs": [
        {
          "data": {
            "text/plain": [
              "tensor([[  279.],\n",
              "        [ 2790.],\n",
              "        [27900.]])"
            ]
          },
          "execution_count": 95,
          "metadata": {},
          "output_type": "execute_result"
        }
      ],
      "source": [
        "a @ b"
      ]
    },
    {
      "cell_type": "markdown",
      "metadata": {
        "id": "va9w-BavYKCB"
      },
      "source": [
        "Тензор `b` можно развернуть в одномерный массив с помощью функции `torch.view(-1)`, чтобы результат был вектором"
      ]
    },
    {
      "cell_type": "code",
      "execution_count": 96,
      "metadata": {
        "colab": {
          "base_uri": "https://localhost:8080/"
        },
        "id": "V7KsdYcBYKCC",
        "outputId": "3fd989f8-2b94-4082-af61-e1030a8ca47f"
      },
      "outputs": [
        {
          "data": {
            "text/plain": [
              "tensor([[ -1.],\n",
              "        [-10.],\n",
              "        [100.]])"
            ]
          },
          "execution_count": 96,
          "metadata": {},
          "output_type": "execute_result"
        }
      ],
      "source": [
        "b"
      ]
    },
    {
      "cell_type": "code",
      "execution_count": 97,
      "metadata": {
        "colab": {
          "base_uri": "https://localhost:8080/"
        },
        "id": "t7k6spayYKCF",
        "outputId": "d3d8ed57-ab88-4b71-a28c-2d1b22e0b7e6"
      },
      "outputs": [
        {
          "data": {
            "text/plain": [
              "tensor([ -1., -10., 100.])"
            ]
          },
          "execution_count": 97,
          "metadata": {},
          "output_type": "execute_result"
        }
      ],
      "source": [
        "b.view(-1)"
      ]
    },
    {
      "cell_type": "code",
      "execution_count": 98,
      "metadata": {
        "colab": {
          "base_uri": "https://localhost:8080/"
        },
        "id": "8u8xQ20bYKCH",
        "outputId": "c5b424dc-6824-46d9-d356-251cf6926933"
      },
      "outputs": [
        {
          "data": {
            "text/plain": [
              "tensor([  279.,  2790., 27900.])"
            ]
          },
          "execution_count": 98,
          "metadata": {},
          "output_type": "execute_result"
        }
      ],
      "source": [
        "a @ b.view(-1)"
      ]
    },
    {
      "cell_type": "code",
      "execution_count": 99,
      "metadata": {
        "colab": {
          "base_uri": "https://localhost:8080/"
        },
        "id": "QvCu1sJEYKCJ",
        "outputId": "7dac2139-3516-4680-c588-3391fd199703"
      },
      "outputs": [
        {
          "data": {
            "text/plain": [
              "tensor([  279.,  2790., 27900.])"
            ]
          },
          "execution_count": 99,
          "metadata": {},
          "output_type": "execute_result"
        }
      ],
      "source": [
        "a.mv(b.view(-1))"
      ]
    },
    {
      "cell_type": "code",
      "execution_count": 100,
      "metadata": {
        "colab": {
          "base_uri": "https://localhost:8080/"
        },
        "id": "MAuGNC7EL3lq",
        "outputId": "b97080cb-21cc-4145-db12-e9e13dc00537"
      },
      "outputs": [
        {
          "data": {
            "text/plain": [
              "torch.Size([2, 3, 4, 6])"
            ]
          },
          "execution_count": 100,
          "metadata": {},
          "output_type": "execute_result"
        }
      ],
      "source": [
        "y = torch.Tensor(2, 3, 4, 5)\n",
        "z = torch.Tensor(2, 3, 5, 6)\n",
        "(y @ z).shape"
      ]
    },
    {
      "cell_type": "markdown",
      "metadata": {
        "id": "gZitrCN6YKCL"
      },
      "source": [
        "## Конвертация\n",
        "#### Конвертация из Numpy в Pytorch:"
      ]
    },
    {
      "cell_type": "code",
      "execution_count": 11,
      "metadata": {
        "colab": {
          "base_uri": "https://localhost:8080/"
        },
        "id": "bnLS4CGXYKCL",
        "outputId": "4695cd5a-bde6-4c62-cbfe-59a72102fb51"
      },
      "outputs": [
        {
          "data": {
            "text/plain": [
              "array([[0.22110751, 0.24552549, 0.72932063],\n",
              "       [0.0437173 , 0.21832865, 0.329616  ],\n",
              "       [0.6622238 , 0.43842032, 0.79655222]])"
            ]
          },
          "execution_count": 11,
          "metadata": {},
          "output_type": "execute_result"
        }
      ],
      "source": [
        "import numpy as np\n",
        "\n",
        "a = np.random.rand(3, 3)\n",
        "a"
      ]
    },
    {
      "cell_type": "code",
      "execution_count": 12,
      "metadata": {
        "colab": {
          "base_uri": "https://localhost:8080/"
        },
        "id": "PXge57waYKCM",
        "outputId": "1602fee2-f37c-4c9a-f871-fcd6954a7263"
      },
      "outputs": [
        {
          "data": {
            "text/plain": [
              "tensor([[0.2211, 0.2455, 0.7293],\n",
              "        [0.0437, 0.2183, 0.3296],\n",
              "        [0.6622, 0.4384, 0.7966]], dtype=torch.float64)"
            ]
          },
          "execution_count": 12,
          "metadata": {},
          "output_type": "execute_result"
        }
      ],
      "source": [
        "b = torch.from_numpy(a)\n",
        "b"
      ]
    },
    {
      "cell_type": "markdown",
      "metadata": {
        "id": "Nvcr3ymPYKCN"
      },
      "source": [
        "**Внимание!** `a` и `b` хранятся в одной и той же ячейке данных. Если именить один тензор, то изменится и другой."
      ]
    },
    {
      "cell_type": "code",
      "execution_count": 13,
      "metadata": {
        "colab": {
          "base_uri": "https://localhost:8080/"
        },
        "id": "0N_ZW6TQYKCN",
        "outputId": "1d419bf2-5353-4cea-bd85-e6ce1ea3255d"
      },
      "outputs": [
        {
          "data": {
            "text/plain": [
              "tensor([[0., 0., 0.],\n",
              "        [0., 0., 0.],\n",
              "        [0., 0., 0.]], dtype=torch.float64)"
            ]
          },
          "execution_count": 13,
          "metadata": {},
          "output_type": "execute_result"
        }
      ],
      "source": [
        "b -= b\n",
        "b"
      ]
    },
    {
      "cell_type": "code",
      "execution_count": 14,
      "metadata": {
        "colab": {
          "base_uri": "https://localhost:8080/"
        },
        "id": "wzUnCKsiYKCP",
        "outputId": "fdefbd15-9512-4752-a16a-13a1aaf03704"
      },
      "outputs": [
        {
          "data": {
            "text/plain": [
              "array([[0., 0., 0.],\n",
              "       [0., 0., 0.],\n",
              "       [0., 0., 0.]])"
            ]
          },
          "execution_count": 14,
          "metadata": {},
          "output_type": "execute_result"
        }
      ],
      "source": [
        "a"
      ]
    },
    {
      "cell_type": "markdown",
      "metadata": {
        "id": "Al73RqKSYKCR"
      },
      "source": [
        "#### Конвертация из Torch в Numpy"
      ]
    },
    {
      "cell_type": "code",
      "execution_count": 15,
      "metadata": {
        "colab": {
          "base_uri": "https://localhost:8080/"
        },
        "id": "u5rngw4vYKCR",
        "outputId": "8a8561d2-8199-4dbd-fb0d-c27dec81755f"
      },
      "outputs": [
        {
          "data": {
            "text/plain": [
              "tensor([[[2.2273e+00, 0.0000e+00, 0.0000e+00, 0.0000e+00],\n",
              "         [0.0000e+00, 0.0000e+00, 0.0000e+00, 0.0000e+00],\n",
              "         [0.0000e+00, 0.0000e+00, 1.0524e+21, 2.0797e+20]],\n",
              "\n",
              "        [[1.0617e+21, 3.3210e-09, 1.7394e-04, 4.2247e-05],\n",
              "         [1.7394e-04, 1.6766e+22, 1.6853e+22, 1.3178e-08],\n",
              "         [2.6730e-06, 5.2943e-08, 1.3224e+22, 5.3695e-05]]])"
            ]
          },
          "execution_count": 15,
          "metadata": {},
          "output_type": "execute_result"
        }
      ],
      "source": [
        "a = torch.FloatTensor(2, 3, 4)\n",
        "a"
      ]
    },
    {
      "cell_type": "code",
      "execution_count": 16,
      "metadata": {
        "colab": {
          "base_uri": "https://localhost:8080/"
        },
        "id": "yjK68Kk-YKCS",
        "outputId": "8d0cd1e7-e497-44ac-c42c-6be7afd6c96b"
      },
      "outputs": [
        {
          "data": {
            "text/plain": [
              "torch.Tensor"
            ]
          },
          "execution_count": 16,
          "metadata": {},
          "output_type": "execute_result"
        }
      ],
      "source": [
        "type(a)"
      ]
    },
    {
      "cell_type": "code",
      "execution_count": 17,
      "metadata": {
        "colab": {
          "base_uri": "https://localhost:8080/"
        },
        "id": "viLUF7gQYKCU",
        "outputId": "57c34d40-d599-4e65-ce84-1b2b23ca80ff"
      },
      "outputs": [
        {
          "data": {
            "text/plain": [
              "array([[[2.22726321e+00, 0.00000000e+00, 0.00000000e+00, 0.00000000e+00],\n",
              "        [0.00000000e+00, 0.00000000e+00, 0.00000000e+00, 0.00000000e+00],\n",
              "        [0.00000000e+00, 0.00000000e+00, 1.05242276e+21, 2.07968948e+20]],\n",
              "\n",
              "       [[1.06168259e+21, 3.32103256e-09, 1.73935288e-04, 4.22468329e-05],\n",
              "        [1.73942040e-04, 1.67656066e+22, 1.68528875e+22, 1.31779831e-08],\n",
              "        [2.67296650e-06, 5.29427844e-08, 1.32235480e+22, 5.36948246e-05]]],\n",
              "      dtype=float32)"
            ]
          },
          "execution_count": 17,
          "metadata": {},
          "output_type": "execute_result"
        }
      ],
      "source": [
        "x = a.numpy()\n",
        "x"
      ]
    },
    {
      "cell_type": "code",
      "execution_count": 18,
      "metadata": {
        "colab": {
          "base_uri": "https://localhost:8080/"
        },
        "id": "9HxgiLxKYKCV",
        "outputId": "24ec3459-041d-49c8-cd68-4f7d6531622e"
      },
      "outputs": [
        {
          "data": {
            "text/plain": [
              "(2, 3, 4)"
            ]
          },
          "execution_count": 18,
          "metadata": {},
          "output_type": "execute_result"
        }
      ],
      "source": [
        "x.shape"
      ]
    },
    {
      "cell_type": "code",
      "execution_count": 19,
      "metadata": {
        "colab": {
          "base_uri": "https://localhost:8080/"
        },
        "id": "SdW5bhmeYKCX",
        "outputId": "ec9284db-ac45-411c-e93a-aa0458d08f6c"
      },
      "outputs": [
        {
          "data": {
            "text/plain": [
              "numpy.ndarray"
            ]
          },
          "execution_count": 19,
          "metadata": {},
          "output_type": "execute_result"
        }
      ],
      "source": [
        "type(x)"
      ]
    },
    {
      "cell_type": "code",
      "execution_count": 20,
      "metadata": {
        "id": "GbCc-vnWDj1l"
      },
      "outputs": [],
      "source": [
        "x -= x"
      ]
    },
    {
      "cell_type": "code",
      "execution_count": 21,
      "metadata": {
        "colab": {
          "base_uri": "https://localhost:8080/"
        },
        "id": "Ui-4DptBDlet",
        "outputId": "ec2f647c-0192-4c15-b45c-b4b853818345"
      },
      "outputs": [
        {
          "data": {
            "text/plain": [
              "tensor([[[0., 0., 0., 0.],\n",
              "         [0., 0., 0., 0.],\n",
              "         [0., 0., 0., 0.]],\n",
              "\n",
              "        [[0., 0., 0., 0.],\n",
              "         [0., 0., 0., 0.],\n",
              "         [0., 0., 0., 0.]]])"
            ]
          },
          "execution_count": 21,
          "metadata": {},
          "output_type": "execute_result"
        }
      ],
      "source": [
        "a"
      ]
    },
    {
      "cell_type": "markdown",
      "metadata": {
        "id": "7-KS81rUYKCY"
      },
      "source": [
        "#### Задание. Реализация функции forward\n",
        "Реализуйте функцию `forward_pass(X, w)` для одного нейрона нейронной сети с активацией ``sigmoid``. Используйте библиотеку PyTorch"
      ]
    },
    {
      "cell_type": "markdown",
      "metadata": {
        "id": "C8dmwhWGxzwl"
      },
      "source": [
        "<img src='https://radioprog.ru/uploads/media/articles/0001/05/267ad35a9e64a7b92c2e3b94940f686816ea6bf8.jpeg'>"
      ]
    },
    {
      "cell_type": "code",
      "execution_count": null,
      "metadata": {
        "id": "vkaIwpn6YKCY"
      },
      "outputs": [],
      "source": [
        "def forward_pass(X, w):\n",
        "\n",
        "  # YOUR CODE\n",
        "\n",
        "  return result\n",
        "\n"
      ]
    },
    {
      "cell_type": "code",
      "execution_count": 113,
      "metadata": {
        "colab": {
          "base_uri": "https://localhost:8080/"
        },
        "id": "VyqlDItxYKCZ",
        "outputId": "025892ad-c358-4416-b62e-37035bd5e03b"
      },
      "outputs": [
        {
          "name": "stdout",
          "output_type": "stream",
          "text": [
            "torch.Size([3, 2])\n",
            "torch.Size([2, 1])\n",
            "result: tensor([[1.0000],\n",
            "        [0.9985],\n",
            "        [0.0474]])\n"
          ]
        }
      ],
      "source": [
        "X = torch.FloatTensor([[-5, 5], [2, 3], [1, -1]])\n",
        "print(X.shape)\n",
        "w = torch.FloatTensor([[-0.5], [2.5]])\n",
        "print(w.shape)\n",
        "result = forward_pass(X, w)\n",
        "print('result: {}'.format(result))"
      ]
    }
  ],
  "metadata": {
    "accelerator": "GPU",
    "colab": {
      "provenance": []
    },
    "kernelspec": {
      "display_name": "nn_env3",
      "language": "python",
      "name": "python3"
    },
    "language_info": {
      "codemirror_mode": {
        "name": "ipython",
        "version": 3
      },
      "file_extension": ".py",
      "mimetype": "text/x-python",
      "name": "python",
      "nbconvert_exporter": "python",
      "pygments_lexer": "ipython3",
      "version": "3.12.1"
    }
  },
  "nbformat": 4,
  "nbformat_minor": 0
}
