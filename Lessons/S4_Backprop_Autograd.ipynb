{
 "cells": [
  {
   "cell_type": "code",
   "execution_count": 30,
   "metadata": {},
   "outputs": [],
   "source": [
    "import torch\n",
    "import torch.nn as nn"
   ]
  },
  {
   "cell_type": "markdown",
   "metadata": {},
   "source": [
    "## Пример прямого и обратного распространения"
   ]
  },
  {
   "cell_type": "code",
   "execution_count": null,
   "metadata": {},
   "outputs": [],
   "source": [
    "class TransparentNet(nn.Module):\n",
    "\n",
    "    def __init__(self, w: torch.Tensor, b: torch.Tensor):\n",
    "\n",
    "        super().__init__()\n",
    "\n",
    "\n",
    "    def forward(self, x):\n",
    "\n",
    "\n",
    "        return self.z2\n",
    "\n",
    "w = torch.tensor([[0.2, 0.4, 0.9],\\\n",
    "                  [0.1,-0.2,-0.5]])\n",
    "\n",
    "b = torch.tensor([0.0, 0.2]).T\n",
    "\n",
    "x = torch.tensor([0.3, 0.3, 0.9]).T\n",
    "\n",
    "y = torch.tensor([0.0, 1.0])\n",
    "\n",
    "net = TransparentNet(w=w, b=b)\n",
    "\n",
    "print('Forward')\n",
    "y_p = net(x)\n",
    "dy = y - y_p\n",
    "y_p.retain_grad()\n",
    "\n",
    "loss = torch.pow(dy, 2).sum()\n",
    "loss.retain_grad()\n",
    "\n",
    "print('Backward')\n",
    "loss.backward()\n",
    "\n",
    "print(f'Loss: {loss}')\n",
    "print(f'loss_grad: {loss.grad}')\n",
    "print(f'y_p_grad: {y_p.grad}')\n",
    "print(f'z2_grad: {net.z2.grad}')\n",
    "print(f'z1_grad: {net.z1.grad}')\n",
    "print(f'w_grad: {net.w.grad}')\n",
    "print(f'b_grad: {net.b.grad}')"
   ]
  },
  {
   "cell_type": "markdown",
   "metadata": {},
   "source": [
    "### Автоматическое дифференцирование в PyTorch\n",
    "\n",
    "Автоматическое дифференцирование в основе своей довольно просто:\n",
    "1. Правило композиции определяет, как перейти от одного слоя (математической операции) к другому;\n",
    "2. Строится динамический граф вычислений;\n",
    "3. Слои (математические операции) дифференцируются благодаря тому, что для всех элементарных операций определены методы дифференцирования;"
   ]
  },
  {
   "cell_type": "markdown",
   "metadata": {},
   "source": [
    "*НЛО*:\n",
    "В тензорном исчислении, тензор можно представить следующей формулой:\n",
    "\n",
    "$$ \\texttt{тензор} = \\text{линейный оператор} + \\text{система координат} + \\text{закон его преобразования при замене координат} $$\n",
    "\n",
    "Тензоры в `pytorch` не являются тензорами в этом смысле слова. Но \"формула\" `torch.tensor` очень похожа, потому заимствование этого названия вполне уместно:\n",
    "\n",
    "$$ \\texttt{torch.tensor} = \\text{линейный оператор} + \\text{граф вычислений} + \\text{метод дифференцирования} $$"
   ]
  }
 ],
 "metadata": {
  "kernelspec": {
   "display_name": "nn_env",
   "language": "python",
   "name": "python3"
  },
  "language_info": {
   "codemirror_mode": {
    "name": "ipython",
    "version": 3
   },
   "file_extension": ".py",
   "mimetype": "text/x-python",
   "name": "python",
   "nbconvert_exporter": "python",
   "pygments_lexer": "ipython3",
   "version": "3.12.1"
  }
 },
 "nbformat": 4,
 "nbformat_minor": 2
}
